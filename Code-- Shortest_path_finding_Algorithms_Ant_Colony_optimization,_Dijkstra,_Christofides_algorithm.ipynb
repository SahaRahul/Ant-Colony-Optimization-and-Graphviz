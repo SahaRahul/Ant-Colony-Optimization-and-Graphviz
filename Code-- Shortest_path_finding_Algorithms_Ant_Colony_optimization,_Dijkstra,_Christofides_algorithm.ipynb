{
  "nbformat": 4,
  "nbformat_minor": 0,
  "metadata": {
    "colab": {
      "provenance": [],
      "authorship_tag": "ABX9TyPTzkXbKUPaSyp2FcCpGpOB",
      "include_colab_link": true
    },
    "kernelspec": {
      "name": "python3",
      "display_name": "Python 3"
    },
    "language_info": {
      "name": "python"
    },
    "widgets": {
      "application/vnd.jupyter.widget-state+json": {
        "ffde76101a28448aaf7a633ce963ab6b": {
          "model_module": "yfiles-jupyter-graphs",
          "model_name": "GraphModel",
          "model_module_version": "^1.10.1",
          "state": {
            "_context_pane_mapping": [
              {
                "id": "Neighborhood",
                "title": "Neighborhood"
              },
              {
                "id": "Data",
                "title": "Data"
              },
              {
                "id": "Search",
                "title": "Search"
              },
              {
                "id": "About",
                "title": "About"
              }
            ],
            "_data_importer": "networkx",
            "_directed": true,
            "_dom_classes": [],
            "_edges": [
              {
                "id": 0,
                "start": 0,
                "end": 1,
                "properties": {
                  "cost": 2
                },
                "color": "#15AFAC",
                "thickness_factor": 1,
                "directed": true,
                "styles": {},
                "label": ""
              },
              {
                "id": 1,
                "start": 0,
                "end": 3,
                "properties": {
                  "cost": 2
                },
                "color": "#15AFAC",
                "thickness_factor": 1,
                "directed": true,
                "styles": {},
                "label": ""
              },
              {
                "id": 2,
                "start": 1,
                "end": 2,
                "properties": {
                  "cost": 2
                },
                "color": "#15AFAC",
                "thickness_factor": 1,
                "directed": true,
                "styles": {},
                "label": ""
              },
              {
                "id": 3,
                "start": 2,
                "end": 5,
                "properties": {
                  "cost": 1
                },
                "color": "#15AFAC",
                "thickness_factor": 1,
                "directed": true,
                "styles": {},
                "label": ""
              },
              {
                "id": 4,
                "start": 2,
                "end": 6,
                "properties": {
                  "cost": 10
                },
                "color": "#15AFAC",
                "thickness_factor": 1,
                "directed": true,
                "styles": {},
                "label": ""
              },
              {
                "id": 5,
                "start": 3,
                "end": 4,
                "properties": {
                  "cost": 2
                },
                "color": "#15AFAC",
                "thickness_factor": 1,
                "directed": true,
                "styles": {},
                "label": ""
              },
              {
                "id": 6,
                "start": 4,
                "end": 5,
                "properties": {
                  "cost": 1
                },
                "color": "#15AFAC",
                "thickness_factor": 1,
                "directed": true,
                "styles": {},
                "label": ""
              },
              {
                "id": 7,
                "start": 4,
                "end": 7,
                "properties": {
                  "cost": 2
                },
                "color": "#15AFAC",
                "thickness_factor": 1,
                "directed": true,
                "styles": {},
                "label": ""
              },
              {
                "id": 8,
                "start": 5,
                "end": 4,
                "properties": {
                  "cost": 1
                },
                "color": "#15AFAC",
                "thickness_factor": 1,
                "directed": true,
                "styles": {},
                "label": ""
              },
              {
                "id": 9,
                "start": 5,
                "end": 2,
                "properties": {
                  "cost": 1
                },
                "color": "#15AFAC",
                "thickness_factor": 1,
                "directed": true,
                "styles": {},
                "label": ""
              },
              {
                "id": 10,
                "start": 7,
                "end": 6,
                "properties": {
                  "cost": 2
                },
                "color": "#15AFAC",
                "thickness_factor": 1,
                "directed": true,
                "styles": {},
                "label": ""
              }
            ],
            "_graph_layout": {},
            "_highlight": [],
            "_license": {},
            "_model_module": "yfiles-jupyter-graphs",
            "_model_module_version": "^1.10.1",
            "_model_name": "GraphModel",
            "_neighborhood": {},
            "_nodes": [
              {
                "id": 0,
                "properties": {
                  "label": "A"
                },
                "color": "#15AFAC",
                "styles": {},
                "label": "A",
                "scale_factor": 1,
                "type": "#15AFAC",
                "size": [
                  55,
                  55
                ],
                "position": [
                  0,
                  0
                ]
              },
              {
                "id": 1,
                "properties": {
                  "label": "B"
                },
                "color": "#15AFAC",
                "styles": {},
                "label": "B",
                "scale_factor": 1,
                "type": "#15AFAC",
                "size": [
                  55,
                  55
                ],
                "position": [
                  0,
                  0
                ]
              },
              {
                "id": 2,
                "properties": {
                  "label": "C"
                },
                "color": "#15AFAC",
                "styles": {},
                "label": "C",
                "scale_factor": 1,
                "type": "#15AFAC",
                "size": [
                  55,
                  55
                ],
                "position": [
                  0,
                  0
                ]
              },
              {
                "id": 3,
                "properties": {
                  "label": "H"
                },
                "color": "#15AFAC",
                "styles": {},
                "label": "H",
                "scale_factor": 1,
                "type": "#15AFAC",
                "size": [
                  55,
                  55
                ],
                "position": [
                  0,
                  0
                ]
              },
              {
                "id": 4,
                "properties": {
                  "label": "G"
                },
                "color": "#15AFAC",
                "styles": {},
                "label": "G",
                "scale_factor": 1,
                "type": "#15AFAC",
                "size": [
                  55,
                  55
                ],
                "position": [
                  0,
                  0
                ]
              },
              {
                "id": 5,
                "properties": {
                  "label": "F"
                },
                "color": "#15AFAC",
                "styles": {},
                "label": "F",
                "scale_factor": 1,
                "type": "#15AFAC",
                "size": [
                  55,
                  55
                ],
                "position": [
                  0,
                  0
                ]
              },
              {
                "id": 6,
                "properties": {
                  "label": "D"
                },
                "color": "#15AFAC",
                "styles": {},
                "label": "D",
                "scale_factor": 1,
                "type": "#15AFAC",
                "size": [
                  55,
                  55
                ],
                "position": [
                  0,
                  0
                ]
              },
              {
                "id": 7,
                "properties": {
                  "label": "E"
                },
                "color": "#15AFAC",
                "styles": {},
                "label": "E",
                "scale_factor": 1,
                "type": "#15AFAC",
                "size": [
                  55,
                  55
                ],
                "position": [
                  0,
                  0
                ]
              }
            ],
            "_overview": {
              "enabled": null,
              "overview_set": false
            },
            "_selected_graph": [
              [],
              []
            ],
            "_sidebar": {
              "enabled": false,
              "start_with": null
            },
            "_view_count": null,
            "_view_module": "yfiles-jupyter-graphs",
            "_view_module_version": "^1.10.1",
            "_view_name": "GraphView",
            "layout": "IPY_MODEL_d3c8cea7af0940d7a4260e25671dade3",
            "tabbable": null,
            "tooltip": null
          }
        },
        "d3c8cea7af0940d7a4260e25671dade3": {
          "model_module": "@jupyter-widgets/base",
          "model_name": "LayoutModel",
          "model_module_version": "2.0.0",
          "state": {
            "_model_module": "@jupyter-widgets/base",
            "_model_module_version": "2.0.0",
            "_model_name": "LayoutModel",
            "_view_count": null,
            "_view_module": "@jupyter-widgets/base",
            "_view_module_version": "2.0.0",
            "_view_name": "LayoutView",
            "align_content": null,
            "align_items": null,
            "align_self": null,
            "border_bottom": null,
            "border_left": null,
            "border_right": null,
            "border_top": null,
            "bottom": null,
            "display": null,
            "flex": null,
            "flex_flow": null,
            "grid_area": null,
            "grid_auto_columns": null,
            "grid_auto_flow": null,
            "grid_auto_rows": null,
            "grid_column": null,
            "grid_gap": null,
            "grid_row": null,
            "grid_template_areas": null,
            "grid_template_columns": null,
            "grid_template_rows": null,
            "height": "500px",
            "justify_content": null,
            "justify_items": null,
            "left": null,
            "margin": null,
            "max_height": null,
            "max_width": null,
            "min_height": null,
            "min_width": null,
            "object_fit": null,
            "object_position": null,
            "order": null,
            "overflow": null,
            "padding": null,
            "right": null,
            "top": null,
            "visibility": null,
            "width": "100%"
          }
        },
        "b7f2ec4b8edf4a39bca108ffc7b2af2d": {
          "model_module": "yfiles-jupyter-graphs",
          "model_name": "GraphModel",
          "model_module_version": "^1.10.1",
          "state": {
            "_context_pane_mapping": [
              {
                "id": "Neighborhood",
                "title": "Neighborhood"
              },
              {
                "id": "Data",
                "title": "Data"
              },
              {
                "id": "Search",
                "title": "Search"
              },
              {
                "id": "About",
                "title": "About"
              }
            ],
            "_data_importer": "networkx",
            "_directed": false,
            "_dom_classes": [],
            "_edges": [
              {
                "id": 0,
                "start": 0,
                "end": 1,
                "properties": {},
                "color": "#D6B4FC",
                "thickness_factor": 1,
                "directed": false,
                "styles": {},
                "label": ""
              },
              {
                "id": 1,
                "start": 0,
                "end": 3,
                "properties": {},
                "color": "#15AFAC",
                "thickness_factor": 1,
                "directed": false,
                "styles": {},
                "label": ""
              },
              {
                "id": 2,
                "start": 0,
                "end": 4,
                "properties": {},
                "color": "#15AFAC",
                "thickness_factor": 1,
                "directed": false,
                "styles": {},
                "label": ""
              },
              {
                "id": 3,
                "start": 1,
                "end": 4,
                "properties": {},
                "color": "#15AFAC",
                "thickness_factor": 1,
                "directed": false,
                "styles": {},
                "label": ""
              },
              {
                "id": 4,
                "start": 2,
                "end": 7,
                "properties": {},
                "color": "#15AFAC",
                "thickness_factor": 1,
                "directed": false,
                "styles": {},
                "label": ""
              },
              {
                "id": 5,
                "start": 4,
                "end": 7,
                "properties": {},
                "color": "#15AFAC",
                "thickness_factor": 1,
                "directed": false,
                "styles": {},
                "label": ""
              },
              {
                "id": 6,
                "start": 5,
                "end": 6,
                "properties": {},
                "color": "#15AFAC",
                "thickness_factor": 1,
                "directed": false,
                "styles": {},
                "label": ""
              },
              {
                "id": 7,
                "start": 6,
                "end": 7,
                "properties": {},
                "color": "#15AFAC",
                "thickness_factor": 1,
                "directed": false,
                "styles": {},
                "label": ""
              }
            ],
            "_graph_layout": {},
            "_highlight": [],
            "_license": {},
            "_model_module": "yfiles-jupyter-graphs",
            "_model_module_version": "^1.10.1",
            "_model_name": "GraphModel",
            "_neighborhood": {},
            "_nodes": [
              {
                "id": 0,
                "properties": {
                  "pos": [
                    0.23796462709189137,
                    0.5442292252959519
                  ],
                  "label": "A"
                },
                "color": "#15AFAC",
                "styles": {},
                "label": "A",
                "scale_factor": 1,
                "type": "#15AFAC",
                "size": [
                  55,
                  55
                ],
                "position": [
                  0,
                  0
                ]
              },
              {
                "id": 1,
                "properties": {
                  "pos": [
                    0.36995516654807925,
                    0.6039200385961945
                  ],
                  "label": "B"
                },
                "color": "#15AFAC",
                "styles": {},
                "label": "B",
                "scale_factor": 1,
                "type": "#15AFAC",
                "size": [
                  55,
                  55
                ],
                "position": [
                  0,
                  0
                ]
              },
              {
                "id": 2,
                "properties": {
                  "pos": [
                    0.625720304108054,
                    0.06552885923981311
                  ],
                  "label": "C"
                },
                "color": "#15AFAC",
                "styles": {},
                "label": "C",
                "scale_factor": 1,
                "type": "#15AFAC",
                "size": [
                  55,
                  55
                ],
                "position": [
                  0,
                  0
                ]
              },
              {
                "id": 3,
                "properties": {
                  "pos": [
                    0.013167991554874137,
                    0.83746908209646
                  ],
                  "label": "H"
                },
                "color": "#15AFAC",
                "styles": {},
                "label": "H",
                "scale_factor": 1,
                "type": "#15AFAC",
                "size": [
                  55,
                  55
                ],
                "position": [
                  0,
                  0
                ]
              },
              {
                "id": 4,
                "properties": {
                  "pos": [
                    0.25935401432800764,
                    0.23433096104669637
                  ],
                  "label": "G"
                },
                "color": "#15AFAC",
                "styles": {},
                "label": "G",
                "scale_factor": 1,
                "type": "#15AFAC",
                "size": [
                  55,
                  55
                ],
                "position": [
                  0,
                  0
                ]
              },
              {
                "id": 5,
                "properties": {
                  "pos": [
                    0.9956448355104628,
                    0.47026350752244794
                  ],
                  "label": "F"
                },
                "color": "#15AFAC",
                "styles": {},
                "label": "F",
                "scale_factor": 1,
                "type": "#15AFAC",
                "size": [
                  55,
                  55
                ],
                "position": [
                  0,
                  0
                ]
              },
              {
                "id": 6,
                "properties": {
                  "pos": [
                    0.8364614512743888,
                    0.47635320869933495
                  ],
                  "label": "D"
                },
                "color": "#15AFAC",
                "styles": {},
                "label": "D",
                "scale_factor": 1,
                "type": "#15AFAC",
                "size": [
                  55,
                  55
                ],
                "position": [
                  0,
                  0
                ]
              },
              {
                "id": 7,
                "properties": {
                  "pos": [
                    0.6390681405441619,
                    0.15061642402352393
                  ],
                  "label": "E"
                },
                "color": "#15AFAC",
                "styles": {},
                "label": "E",
                "scale_factor": 1,
                "type": "#15AFAC",
                "size": [
                  55,
                  55
                ],
                "position": [
                  0,
                  0
                ]
              }
            ],
            "_overview": {
              "enabled": null,
              "overview_set": false
            },
            "_selected_graph": [
              [],
              []
            ],
            "_sidebar": {
              "enabled": false,
              "start_with": null
            },
            "_view_count": null,
            "_view_module": "yfiles-jupyter-graphs",
            "_view_module_version": "^1.10.1",
            "_view_name": "GraphView",
            "layout": "IPY_MODEL_c6401755fdf240c6b63c9eb09a624f14",
            "tabbable": null,
            "tooltip": null
          }
        },
        "c6401755fdf240c6b63c9eb09a624f14": {
          "model_module": "@jupyter-widgets/base",
          "model_name": "LayoutModel",
          "model_module_version": "2.0.0",
          "state": {
            "_model_module": "@jupyter-widgets/base",
            "_model_module_version": "2.0.0",
            "_model_name": "LayoutModel",
            "_view_count": null,
            "_view_module": "@jupyter-widgets/base",
            "_view_module_version": "2.0.0",
            "_view_name": "LayoutView",
            "align_content": null,
            "align_items": null,
            "align_self": null,
            "border_bottom": null,
            "border_left": null,
            "border_right": null,
            "border_top": null,
            "bottom": null,
            "display": null,
            "flex": null,
            "flex_flow": null,
            "grid_area": null,
            "grid_auto_columns": null,
            "grid_auto_flow": null,
            "grid_auto_rows": null,
            "grid_column": null,
            "grid_gap": null,
            "grid_row": null,
            "grid_template_areas": null,
            "grid_template_columns": null,
            "grid_template_rows": null,
            "height": "500px",
            "justify_content": null,
            "justify_items": null,
            "left": null,
            "margin": null,
            "max_height": null,
            "max_width": null,
            "min_height": null,
            "min_width": null,
            "object_fit": null,
            "object_position": null,
            "order": null,
            "overflow": null,
            "padding": null,
            "right": null,
            "top": null,
            "visibility": null,
            "width": "100%"
          }
        },
        "f8e886dab920409b8d2ec78a88fca916": {
          "model_module": "yfiles-jupyter-graphs",
          "model_name": "GraphModel",
          "model_module_version": "^1.10.1",
          "state": {
            "_context_pane_mapping": [
              {
                "id": "Neighborhood",
                "title": "Neighborhood"
              },
              {
                "id": "Data",
                "title": "Data"
              },
              {
                "id": "Search",
                "title": "Search"
              },
              {
                "id": "About",
                "title": "About"
              }
            ],
            "_data_importer": "networkx",
            "_directed": true,
            "_dom_classes": [],
            "_edges": [
              {
                "id": 0,
                "start": 0,
                "end": 1,
                "properties": {
                  "cost": 20
                },
                "color": "#15AFAC",
                "thickness_factor": 1,
                "directed": true,
                "styles": {},
                "label": ""
              },
              {
                "id": 1,
                "start": 0,
                "end": 2,
                "properties": {
                  "cost": 12
                },
                "color": "#15AFAC",
                "thickness_factor": 1,
                "directed": true,
                "styles": {},
                "label": ""
              },
              {
                "id": 2,
                "start": 0,
                "end": 3,
                "properties": {
                  "cost": 50
                },
                "color": "#15AFAC",
                "thickness_factor": 1,
                "directed": true,
                "styles": {},
                "label": ""
              },
              {
                "id": 3,
                "start": 0,
                "end": 4,
                "properties": {
                  "cost": 71
                },
                "color": "#15AFAC",
                "thickness_factor": 1,
                "directed": true,
                "styles": {},
                "label": ""
              },
              {
                "id": 4,
                "start": 1,
                "end": 2,
                "properties": {
                  "cost": 14
                },
                "color": "#15AFAC",
                "thickness_factor": 1,
                "directed": true,
                "styles": {},
                "label": ""
              },
              {
                "id": 5,
                "start": 1,
                "end": 3,
                "properties": {
                  "cost": 8
                },
                "color": "#15AFAC",
                "thickness_factor": 1,
                "directed": true,
                "styles": {},
                "label": ""
              },
              {
                "id": 6,
                "start": 1,
                "end": 4,
                "properties": {
                  "cost": 12
                },
                "color": "#15AFAC",
                "thickness_factor": 1,
                "directed": true,
                "styles": {},
                "label": ""
              },
              {
                "id": 7,
                "start": 2,
                "end": 3,
                "properties": {
                  "cost": 10
                },
                "color": "#15AFAC",
                "thickness_factor": 1,
                "directed": true,
                "styles": {},
                "label": ""
              },
              {
                "id": 8,
                "start": 2,
                "end": 4,
                "properties": {
                  "cost": 23
                },
                "color": "#15AFAC",
                "thickness_factor": 1,
                "directed": true,
                "styles": {},
                "label": ""
              },
              {
                "id": 9,
                "start": 3,
                "end": 4,
                "properties": {
                  "cost": 42
                },
                "color": "#15AFAC",
                "thickness_factor": 1,
                "directed": true,
                "styles": {},
                "label": ""
              }
            ],
            "_graph_layout": {},
            "_highlight": [],
            "_license": {},
            "_model_module": "yfiles-jupyter-graphs",
            "_model_module_version": "^1.10.1",
            "_model_name": "GraphModel",
            "_neighborhood": {},
            "_nodes": [
              {
                "id": 0,
                "properties": {
                  "label": "0"
                },
                "color": "#15AFAC",
                "styles": {},
                "label": "0",
                "scale_factor": 1,
                "type": "#15AFAC",
                "size": [
                  55,
                  55
                ],
                "position": [
                  0,
                  0
                ]
              },
              {
                "id": 1,
                "properties": {
                  "label": "1"
                },
                "color": "#15AFAC",
                "styles": {},
                "label": "1",
                "scale_factor": 1,
                "type": "#15AFAC",
                "size": [
                  55,
                  55
                ],
                "position": [
                  0,
                  0
                ]
              },
              {
                "id": 2,
                "properties": {
                  "label": "2"
                },
                "color": "#15AFAC",
                "styles": {},
                "label": "2",
                "scale_factor": 1,
                "type": "#15AFAC",
                "size": [
                  55,
                  55
                ],
                "position": [
                  0,
                  0
                ]
              },
              {
                "id": 3,
                "properties": {
                  "label": "3"
                },
                "color": "#15AFAC",
                "styles": {},
                "label": "3",
                "scale_factor": 1,
                "type": "#15AFAC",
                "size": [
                  55,
                  55
                ],
                "position": [
                  0,
                  0
                ]
              },
              {
                "id": 4,
                "properties": {
                  "label": "4"
                },
                "color": "#15AFAC",
                "styles": {},
                "label": "4",
                "scale_factor": 1,
                "type": "#15AFAC",
                "size": [
                  55,
                  55
                ],
                "position": [
                  0,
                  0
                ]
              }
            ],
            "_overview": {
              "enabled": null,
              "overview_set": false
            },
            "_selected_graph": [
              [],
              []
            ],
            "_sidebar": {
              "enabled": false,
              "start_with": null
            },
            "_view_count": null,
            "_view_module": "yfiles-jupyter-graphs",
            "_view_module_version": "^1.10.1",
            "_view_name": "GraphView",
            "layout": "IPY_MODEL_6eb5d7ca80fc424ab292ab67177533af",
            "tabbable": null,
            "tooltip": null
          }
        },
        "6eb5d7ca80fc424ab292ab67177533af": {
          "model_module": "@jupyter-widgets/base",
          "model_name": "LayoutModel",
          "model_module_version": "2.0.0",
          "state": {
            "_model_module": "@jupyter-widgets/base",
            "_model_module_version": "2.0.0",
            "_model_name": "LayoutModel",
            "_view_count": null,
            "_view_module": "@jupyter-widgets/base",
            "_view_module_version": "2.0.0",
            "_view_name": "LayoutView",
            "align_content": null,
            "align_items": null,
            "align_self": null,
            "border_bottom": null,
            "border_left": null,
            "border_right": null,
            "border_top": null,
            "bottom": null,
            "display": null,
            "flex": null,
            "flex_flow": null,
            "grid_area": null,
            "grid_auto_columns": null,
            "grid_auto_flow": null,
            "grid_auto_rows": null,
            "grid_column": null,
            "grid_gap": null,
            "grid_row": null,
            "grid_template_areas": null,
            "grid_template_columns": null,
            "grid_template_rows": null,
            "height": "500px",
            "justify_content": null,
            "justify_items": null,
            "left": null,
            "margin": null,
            "max_height": null,
            "max_width": null,
            "min_height": null,
            "min_width": null,
            "object_fit": null,
            "object_position": null,
            "order": null,
            "overflow": null,
            "padding": null,
            "right": null,
            "top": null,
            "visibility": null,
            "width": "100%"
          }
        }
      }
    }
  },
  "cells": [
    {
      "cell_type": "markdown",
      "metadata": {
        "id": "view-in-github",
        "colab_type": "text"
      },
      "source": [
        "<a href=\"https://colab.research.google.com/github/SahaRahul/Ant-Colony-Optimization-and-Graphviz/blob/main/Shortest_path_finding_Algorithms_Ant_Colony_optimization%2C_Dijkstra%2C_Christofides_algorithm.ipynb\" target=\"_parent\"><img src=\"https://colab.research.google.com/assets/colab-badge.svg\" alt=\"Open In Colab\"/></a>"
      ]
    },
    {
      "cell_type": "code",
      "source": [
        "%pip install aco-routing\n",
        "%pip install yfiles-jupyter-graphs\n",
        "%pip install networkx\n",
        "%pip install matplotlib\n",
        "%pip install graphviz"
      ],
      "metadata": {
        "colab": {
          "base_uri": "https://localhost:8080/"
        },
        "id": "0kfXHZHzwsu1",
        "outputId": "4d7fd8e5-ab04-44a7-c3ab-41d90837ba0e"
      },
      "execution_count": 1,
      "outputs": [
        {
          "output_type": "stream",
          "name": "stdout",
          "text": [
            "Collecting aco-routing\n",
            "  Downloading aco_routing-1.1.1-py3-none-any.whl.metadata (4.1 kB)\n",
            "Downloading aco_routing-1.1.1-py3-none-any.whl (8.5 kB)\n",
            "Installing collected packages: aco-routing\n",
            "Successfully installed aco-routing-1.1.1\n",
            "Collecting yfiles-jupyter-graphs\n",
            "  Downloading yfiles_jupyter_graphs-1.10.1-py3-none-any.whl.metadata (19 kB)\n",
            "Collecting ipywidgets>=8.0.0 (from yfiles-jupyter-graphs)\n",
            "  Downloading ipywidgets-8.1.5-py3-none-any.whl.metadata (2.3 kB)\n",
            "Collecting comm>=0.1.3 (from ipywidgets>=8.0.0->yfiles-jupyter-graphs)\n",
            "  Downloading comm-0.2.2-py3-none-any.whl.metadata (3.7 kB)\n",
            "Requirement already satisfied: ipython>=6.1.0 in /usr/local/lib/python3.11/dist-packages (from ipywidgets>=8.0.0->yfiles-jupyter-graphs) (7.34.0)\n",
            "Requirement already satisfied: traitlets>=4.3.1 in /usr/local/lib/python3.11/dist-packages (from ipywidgets>=8.0.0->yfiles-jupyter-graphs) (5.7.1)\n",
            "Collecting widgetsnbextension~=4.0.12 (from ipywidgets>=8.0.0->yfiles-jupyter-graphs)\n",
            "  Downloading widgetsnbextension-4.0.13-py3-none-any.whl.metadata (1.6 kB)\n",
            "Requirement already satisfied: jupyterlab-widgets~=3.0.12 in /usr/local/lib/python3.11/dist-packages (from ipywidgets>=8.0.0->yfiles-jupyter-graphs) (3.0.13)\n",
            "Requirement already satisfied: setuptools>=18.5 in /usr/local/lib/python3.11/dist-packages (from ipython>=6.1.0->ipywidgets>=8.0.0->yfiles-jupyter-graphs) (75.1.0)\n",
            "Collecting jedi>=0.16 (from ipython>=6.1.0->ipywidgets>=8.0.0->yfiles-jupyter-graphs)\n",
            "  Downloading jedi-0.19.2-py2.py3-none-any.whl.metadata (22 kB)\n",
            "Requirement already satisfied: decorator in /usr/local/lib/python3.11/dist-packages (from ipython>=6.1.0->ipywidgets>=8.0.0->yfiles-jupyter-graphs) (4.4.2)\n",
            "Requirement already satisfied: pickleshare in /usr/local/lib/python3.11/dist-packages (from ipython>=6.1.0->ipywidgets>=8.0.0->yfiles-jupyter-graphs) (0.7.5)\n",
            "Requirement already satisfied: prompt-toolkit!=3.0.0,!=3.0.1,<3.1.0,>=2.0.0 in /usr/local/lib/python3.11/dist-packages (from ipython>=6.1.0->ipywidgets>=8.0.0->yfiles-jupyter-graphs) (3.0.50)\n",
            "Requirement already satisfied: pygments in /usr/local/lib/python3.11/dist-packages (from ipython>=6.1.0->ipywidgets>=8.0.0->yfiles-jupyter-graphs) (2.18.0)\n",
            "Requirement already satisfied: backcall in /usr/local/lib/python3.11/dist-packages (from ipython>=6.1.0->ipywidgets>=8.0.0->yfiles-jupyter-graphs) (0.2.0)\n",
            "Requirement already satisfied: matplotlib-inline in /usr/local/lib/python3.11/dist-packages (from ipython>=6.1.0->ipywidgets>=8.0.0->yfiles-jupyter-graphs) (0.1.7)\n",
            "Requirement already satisfied: pexpect>4.3 in /usr/local/lib/python3.11/dist-packages (from ipython>=6.1.0->ipywidgets>=8.0.0->yfiles-jupyter-graphs) (4.9.0)\n",
            "Requirement already satisfied: parso<0.9.0,>=0.8.4 in /usr/local/lib/python3.11/dist-packages (from jedi>=0.16->ipython>=6.1.0->ipywidgets>=8.0.0->yfiles-jupyter-graphs) (0.8.4)\n",
            "Requirement already satisfied: ptyprocess>=0.5 in /usr/local/lib/python3.11/dist-packages (from pexpect>4.3->ipython>=6.1.0->ipywidgets>=8.0.0->yfiles-jupyter-graphs) (0.7.0)\n",
            "Requirement already satisfied: wcwidth in /usr/local/lib/python3.11/dist-packages (from prompt-toolkit!=3.0.0,!=3.0.1,<3.1.0,>=2.0.0->ipython>=6.1.0->ipywidgets>=8.0.0->yfiles-jupyter-graphs) (0.2.13)\n",
            "Downloading yfiles_jupyter_graphs-1.10.1-py3-none-any.whl (15.6 MB)\n",
            "\u001b[2K   \u001b[90m━━━━━━━━━━━━━━━━━━━━━━━━━━━━━━━━━━━━━━━━\u001b[0m \u001b[32m15.6/15.6 MB\u001b[0m \u001b[31m45.8 MB/s\u001b[0m eta \u001b[36m0:00:00\u001b[0m\n",
            "\u001b[?25hDownloading ipywidgets-8.1.5-py3-none-any.whl (139 kB)\n",
            "\u001b[2K   \u001b[90m━━━━━━━━━━━━━━━━━━━━━━━━━━━━━━━━━━━━━━━━\u001b[0m \u001b[32m139.8/139.8 kB\u001b[0m \u001b[31m10.3 MB/s\u001b[0m eta \u001b[36m0:00:00\u001b[0m\n",
            "\u001b[?25hDownloading comm-0.2.2-py3-none-any.whl (7.2 kB)\n",
            "Downloading widgetsnbextension-4.0.13-py3-none-any.whl (2.3 MB)\n",
            "\u001b[2K   \u001b[90m━━━━━━━━━━━━━━━━━━━━━━━━━━━━━━━━━━━━━━━━\u001b[0m \u001b[32m2.3/2.3 MB\u001b[0m \u001b[31m38.6 MB/s\u001b[0m eta \u001b[36m0:00:00\u001b[0m\n",
            "\u001b[?25hDownloading jedi-0.19.2-py2.py3-none-any.whl (1.6 MB)\n",
            "\u001b[2K   \u001b[90m━━━━━━━━━━━━━━━━━━━━━━━━━━━━━━━━━━━━━━━━\u001b[0m \u001b[32m1.6/1.6 MB\u001b[0m \u001b[31m43.1 MB/s\u001b[0m eta \u001b[36m0:00:00\u001b[0m\n",
            "\u001b[?25hInstalling collected packages: widgetsnbextension, jedi, comm, ipywidgets, yfiles-jupyter-graphs\n",
            "  Attempting uninstall: widgetsnbextension\n",
            "    Found existing installation: widgetsnbextension 3.6.10\n",
            "    Uninstalling widgetsnbextension-3.6.10:\n",
            "      Successfully uninstalled widgetsnbextension-3.6.10\n",
            "  Attempting uninstall: ipywidgets\n",
            "    Found existing installation: ipywidgets 7.7.1\n",
            "    Uninstalling ipywidgets-7.7.1:\n",
            "      Successfully uninstalled ipywidgets-7.7.1\n",
            "Successfully installed comm-0.2.2 ipywidgets-8.1.5 jedi-0.19.2 widgetsnbextension-4.0.13 yfiles-jupyter-graphs-1.10.1\n",
            "Requirement already satisfied: networkx in /usr/local/lib/python3.11/dist-packages (3.4.2)\n",
            "Requirement already satisfied: matplotlib in /usr/local/lib/python3.11/dist-packages (3.10.0)\n",
            "Requirement already satisfied: contourpy>=1.0.1 in /usr/local/lib/python3.11/dist-packages (from matplotlib) (1.3.1)\n",
            "Requirement already satisfied: cycler>=0.10 in /usr/local/lib/python3.11/dist-packages (from matplotlib) (0.12.1)\n",
            "Requirement already satisfied: fonttools>=4.22.0 in /usr/local/lib/python3.11/dist-packages (from matplotlib) (4.56.0)\n",
            "Requirement already satisfied: kiwisolver>=1.3.1 in /usr/local/lib/python3.11/dist-packages (from matplotlib) (1.4.8)\n",
            "Requirement already satisfied: numpy>=1.23 in /usr/local/lib/python3.11/dist-packages (from matplotlib) (1.26.4)\n",
            "Requirement already satisfied: packaging>=20.0 in /usr/local/lib/python3.11/dist-packages (from matplotlib) (24.2)\n",
            "Requirement already satisfied: pillow>=8 in /usr/local/lib/python3.11/dist-packages (from matplotlib) (11.1.0)\n",
            "Requirement already satisfied: pyparsing>=2.3.1 in /usr/local/lib/python3.11/dist-packages (from matplotlib) (3.2.1)\n",
            "Requirement already satisfied: python-dateutil>=2.7 in /usr/local/lib/python3.11/dist-packages (from matplotlib) (2.8.2)\n",
            "Requirement already satisfied: six>=1.5 in /usr/local/lib/python3.11/dist-packages (from python-dateutil>=2.7->matplotlib) (1.17.0)\n",
            "Requirement already satisfied: graphviz in /usr/local/lib/python3.11/dist-packages (0.20.3)\n"
          ]
        }
      ]
    },
    {
      "cell_type": "code",
      "source": [
        "from aco_routing import ACO\n",
        "import networkx as nx\n",
        "from yfiles_jupyter_graphs import GraphWidget\n"
      ],
      "metadata": {
        "id": "aSL3I906xpvP"
      },
      "execution_count": 2,
      "outputs": []
    },
    {
      "cell_type": "code",
      "source": [
        "G = nx.DiGraph()\n",
        "\n",
        "G.add_edge(\"A\", \"B\", cost=2)\n",
        "G.add_edge(\"B\", \"C\", cost=2)\n",
        "G.add_edge(\"A\", \"H\", cost=2)\n",
        "G.add_edge(\"H\", \"G\", cost=2)\n",
        "G.add_edge(\"C\", \"F\", cost=1)\n",
        "G.add_edge(\"F\", \"G\", cost=1)\n",
        "G.add_edge(\"G\", \"F\", cost=1)\n",
        "G.add_edge(\"F\", \"C\", cost=1)\n",
        "G.add_edge(\"C\", \"D\", cost=10)\n",
        "G.add_edge(\"E\", \"D\", cost=2)\n",
        "G.add_edge(\"G\", \"E\", cost=2)"
      ],
      "metadata": {
        "id": "PQ21sQO3x-M2"
      },
      "execution_count": 62,
      "outputs": []
    },
    {
      "cell_type": "code",
      "source": [
        "from networkx import path_graph\n",
        "from networkx.drawing.nx_pydot import to_pydot\n",
        "\n",
        "# G = path_graph(4)\n",
        "dot = to_pydot(G).to_string()\n",
        "print(dot)"
      ],
      "metadata": {
        "colab": {
          "base_uri": "https://localhost:8080/"
        },
        "id": "zan_TspuyVF_",
        "outputId": "63912b57-b9d3-4483-97a7-45171ee60c07"
      },
      "execution_count": 63,
      "outputs": [
        {
          "output_type": "stream",
          "name": "stdout",
          "text": [
            "strict digraph {\n",
            "A;\n",
            "B;\n",
            "C;\n",
            "H;\n",
            "G;\n",
            "F;\n",
            "D;\n",
            "E;\n",
            "A -> B [cost=2];\n",
            "A -> H [cost=2];\n",
            "B -> C [cost=2];\n",
            "C -> F [cost=1];\n",
            "C -> D [cost=10];\n",
            "H -> G [cost=2];\n",
            "G -> F [cost=1];\n",
            "G -> E [cost=2];\n",
            "F -> G [cost=1];\n",
            "F -> C [cost=1];\n",
            "E -> D [cost=2];\n",
            "}\n",
            "\n"
          ]
        }
      ]
    },
    {
      "cell_type": "code",
      "source": [
        "from graphviz import Source\n",
        "src = Source(dot) # dot is string containing DOT notation of graph\n",
        "src.view()"
      ],
      "metadata": {
        "colab": {
          "base_uri": "https://localhost:8080/",
          "height": 36
        },
        "id": "KUGFqL3-zB9D",
        "outputId": "d7ed2396-6964-43aa-9ca2-5c78bdd77ecb"
      },
      "execution_count": 5,
      "outputs": [
        {
          "output_type": "execute_result",
          "data": {
            "text/plain": [
              "'Source.gv.pdf'"
            ],
            "application/vnd.google.colaboratory.intrinsic+json": {
              "type": "string"
            }
          },
          "metadata": {},
          "execution_count": 5
        }
      ]
    },
    {
      "cell_type": "code",
      "source": [
        "import matplotlib.pyplot as plt\n",
        "# G = nx.cubical_graph()\n",
        "subax1 = plt.subplot(121)\n",
        "nx.draw(G, with_labels=True)   # default spring_layout\n",
        "subax2 = plt.subplot(122)\n",
        "nx.draw(G, pos=nx.circular_layout(G), node_color='r', edge_color='b', with_labels=True)\n",
        "plt.show()"
      ],
      "metadata": {
        "colab": {
          "base_uri": "https://localhost:8080/",
          "height": 406
        },
        "id": "jdfgr8HhCLH5",
        "outputId": "d09bc49a-e1bd-4531-ed92-86c608621ed7"
      },
      "execution_count": 6,
      "outputs": [
        {
          "output_type": "display_data",
          "data": {
            "text/plain": [
              "<Figure size 640x480 with 2 Axes>"
            ],
            "image/png": "[encoded data removed]"
          },
          "metadata": {}
        }
      ]
    },
    {
      "cell_type": "code",
      "source": [
        "w = GraphWidget()\n",
        "w.import_graph(G)\n",
        "w.directed = True"
      ],
      "metadata": {
        "id": "RAdmBsyve8DV"
      },
      "execution_count": 7,
      "outputs": []
    },
    {
      "cell_type": "code",
      "source": [
        "try:\n",
        "  import google.colab\n",
        "  from google.colab import output\n",
        "  output.enable_custom_widget_manager()\n",
        "except:\n",
        "  pass"
      ],
      "metadata": {
        "id": "TWcwNIRrKFDK"
      },
      "execution_count": 8,
      "outputs": []
    },
    {
      "cell_type": "code",
      "source": [
        "display(w)"
      ],
      "metadata": {
        "colab": {
          "base_uri": "https://localhost:8080/",
          "height": 517,
          "referenced_widgets": [
            "ffde76101a28448aaf7a633ce963ab6b",
            "d3c8cea7af0940d7a4260e25671dade3"
          ]
        },
        "id": "N99TqHwefGlY",
        "outputId": "b805501b-c51c-4a4d-bfe3-fef6b0ab07d3"
      },
      "execution_count": 9,
      "outputs": [
        {
          "output_type": "display_data",
          "data": {
            "text/plain": [
              "GraphWidget(layout=Layout(height='500px', width='100%'))"
            ],
            "application/vnd.jupyter.widget-view+json": {
              "version_major": 2,
              "version_minor": 0,
              "model_id": "ffde76101a28448aaf7a633ce963ab6b"
            }
          },
          "metadata": {
            "application/vnd.jupyter.widget-view+json": {
              "colab": {
                "custom_widget_manager": {
                  "url": "https://ssl.gstatic.com/colaboratory-static/widgets/colab-cdn-widget-manager/2b70e893a8ba7c0f/manager.min.js"
                }
              }
            }
          }
        }
      ]
    },
    {
      "cell_type": "markdown",
      "source": [
        "### Ant Colony Optimization: Find Shortest path"
      ],
      "metadata": {
        "id": "GmDseJ68cbWZ"
      }
    },
    {
      "cell_type": "code",
      "source": [
        "aco = ACO(G, ant_max_steps=100, num_iterations=100, ant_random_spawn=True)\n",
        "\n",
        "aco_path, aco_cost = aco.find_shortest_path(\n",
        "    source=\"A\",\n",
        "    destination=\"G\",\n",
        "    num_ants=100,\n",
        ")\n",
        "\n",
        "print(aco_path, aco_cost)\n",
        "\n",
        "edge_list = [(aco_path[i-1],aco_path[i]) for i in range(1,len(aco_path))]\n",
        "print(edge_list)"
      ],
      "metadata": {
        "colab": {
          "base_uri": "https://localhost:8080/"
        },
        "id": "P60uWKjBx_lp",
        "outputId": "f341699a-e474-4481-faad-1f53dc5f8118"
      },
      "execution_count": 84,
      "outputs": [
        {
          "output_type": "stream",
          "name": "stdout",
          "text": [
            "['A', 'H', 'G'] 4.0\n",
            "[('A', 'H'), ('H', 'G')]\n"
          ]
        }
      ]
    },
    {
      "cell_type": "code",
      "source": [
        "G.edges"
      ],
      "metadata": {
        "colab": {
          "base_uri": "https://localhost:8080/"
        },
        "id": "2glV9okVVRVD",
        "outputId": "2fc11fa9-9a5b-4ac4-93de-b398894df963"
      },
      "execution_count": 77,
      "outputs": [
        {
          "output_type": "execute_result",
          "data": {
            "text/plain": [
              "OutEdgeView([('A', 'B'), ('A', 'H'), ('B', 'C'), ('C', 'F'), ('C', 'D'), ('H', 'G'), ('G', 'F'), ('G', 'E'), ('F', 'G'), ('F', 'C'), ('E', 'D')])"
            ]
          },
          "metadata": {},
          "execution_count": 77
        }
      ]
    },
    {
      "cell_type": "code",
      "source": [
        "G.edges(data=True)"
      ],
      "metadata": {
        "colab": {
          "base_uri": "https://localhost:8080/"
        },
        "id": "vUIFQUYMVaa7",
        "outputId": "222a3f50-7d5a-45b2-e29d-e61b1a313983"
      },
      "execution_count": 78,
      "outputs": [
        {
          "output_type": "execute_result",
          "data": {
            "text/plain": [
              "OutEdgeDataView([('A', 'B', {'cost': 2, 'pheromones': 644.500000000007}), ('A', 'H', {'cost': 2, 'pheromones': 720.4000000000086}), ('B', 'C', {'cost': 2, 'pheromones': 2194.7999999999706}), ('C', 'F', {'cost': 1, 'pheromones': 4541.299999999932}), ('C', 'D', {'cost': 10, 'pheromones': 1.0}), ('H', 'G', {'cost': 2, 'pheromones': 2253.4333333332943}), ('G', 'F', {'cost': 1, 'pheromones': 4647.433333333255}), ('G', 'E', {'cost': 2, 'pheromones': 1.0}), ('F', 'G', {'cost': 1, 'pheromones': 1.0}), ('F', 'C', {'cost': 1, 'pheromones': 1.0}), ('E', 'D', {'cost': 2, 'pheromones': 1.0})])"
            ]
          },
          "metadata": {},
          "execution_count": 78
        }
      ]
    },
    {
      "cell_type": "code",
      "source": [
        "G.nodes"
      ],
      "metadata": {
        "colab": {
          "base_uri": "https://localhost:8080/"
        },
        "id": "G7YTIF6GVfq7",
        "outputId": "a1b78151-8b1a-499e-e238-16f8b707c5c1"
      },
      "execution_count": 79,
      "outputs": [
        {
          "output_type": "execute_result",
          "data": {
            "text/plain": [
              "NodeView(('A', 'B', 'C', 'H', 'G', 'F', 'D', 'E'))"
            ]
          },
          "metadata": {},
          "execution_count": 79
        }
      ]
    },
    {
      "cell_type": "code",
      "source": [
        "G.nodes(data=True)"
      ],
      "metadata": {
        "colab": {
          "base_uri": "https://localhost:8080/"
        },
        "id": "PDZiutGDVity",
        "outputId": "e4000886-66f0-46db-e0ee-ec2218406330"
      },
      "execution_count": 80,
      "outputs": [
        {
          "output_type": "execute_result",
          "data": {
            "text/plain": [
              "NodeDataView({'A': {}, 'B': {}, 'C': {}, 'H': {}, 'G': {}, 'F': {}, 'D': {}, 'E': {}})"
            ]
          },
          "metadata": {},
          "execution_count": 80
        }
      ]
    },
    {
      "cell_type": "code",
      "source": [
        "nx.path_weight(G, ['A','H'], \"cost\")"
      ],
      "metadata": {
        "colab": {
          "base_uri": "https://localhost:8080/"
        },
        "id": "2bk37YpeTbSK",
        "outputId": "62c145c2-b838-4598-9664-74397c54772c"
      },
      "execution_count": 81,
      "outputs": [
        {
          "output_type": "execute_result",
          "data": {
            "text/plain": [
              "2"
            ]
          },
          "metadata": {},
          "execution_count": 81
        }
      ]
    },
    {
      "cell_type": "markdown",
      "source": [
        "### Alternative Algorithm: Dijkstra Shortest Part Finding"
      ],
      "metadata": {
        "id": "8L_SNHOjcNuG"
      }
    },
    {
      "cell_type": "code",
      "source": [
        "source = \"A\"\n",
        "destination = \"G\"\n",
        "\n",
        "dijkstra_path = nx.dijkstra_path(G, source, destination)\n",
        "dijkstra_cost = nx.path_weight(G, dijkstra_path, \"cost\")"
      ],
      "metadata": {
        "id": "eXHaFeWHROTr"
      },
      "execution_count": 85,
      "outputs": []
    },
    {
      "cell_type": "code",
      "source": [
        "dijkstra_path, dijkstra_cost"
      ],
      "metadata": {
        "colab": {
          "base_uri": "https://localhost:8080/"
        },
        "id": "JwenEgUJRdjq",
        "outputId": "762fa58c-6580-4240-bcd4-bab59838f1c2"
      },
      "execution_count": 86,
      "outputs": [
        {
          "output_type": "execute_result",
          "data": {
            "text/plain": [
              "(['A', 'H', 'G'], 4)"
            ]
          },
          "metadata": {},
          "execution_count": 86
        }
      ]
    },
    {
      "cell_type": "code",
      "source": [
        "G.nodes()"
      ],
      "metadata": {
        "colab": {
          "base_uri": "https://localhost:8080/"
        },
        "id": "NcldqGUK34M8",
        "outputId": "6c570575-fe65-450c-d636-49f90a99ec01"
      },
      "execution_count": 87,
      "outputs": [
        {
          "output_type": "execute_result",
          "data": {
            "text/plain": [
              "NodeView(('A', 'B', 'C', 'H', 'G', 'F', 'D', 'E'))"
            ]
          },
          "metadata": {},
          "execution_count": 87
        }
      ]
    },
    {
      "cell_type": "code",
      "source": [
        "G = nx.random_geometric_graph(G, radius=0.4, seed=3)\n",
        "\n",
        "pos = nx.get_node_attributes(G, \"pos\")\n",
        "\n",
        "# Depot should be at (0,0)\n",
        "pos[0] = (0.5, 0.5)"
      ],
      "metadata": {
        "id": "Ze-jh-31KzBE"
      },
      "execution_count": 88,
      "outputs": []
    },
    {
      "cell_type": "code",
      "source": [
        "pos"
      ],
      "metadata": {
        "colab": {
          "base_uri": "https://localhost:8080/"
        },
        "id": "n6iJMiczL7RZ",
        "outputId": "1a794bfe-8c36-42ad-931b-fe276d38ee6a"
      },
      "execution_count": 89,
      "outputs": [
        {
          "output_type": "execute_result",
          "data": {
            "text/plain": [
              "{'A': [0.23796462709189137, 0.5442292252959519],\n",
              " 'B': [0.36995516654807925, 0.6039200385961945],\n",
              " 'C': [0.625720304108054, 0.06552885923981311],\n",
              " 'H': [0.013167991554874137, 0.83746908209646],\n",
              " 'G': [0.25935401432800764, 0.23433096104669637],\n",
              " 'F': [0.9956448355104628, 0.47026350752244794],\n",
              " 'D': [0.8364614512743888, 0.47635320869933495],\n",
              " 'E': [0.6390681405441619, 0.15061642402352393],\n",
              " 0: (0.5, 0.5)}"
            ]
          },
          "metadata": {},
          "execution_count": 89
        }
      ]
    },
    {
      "cell_type": "code",
      "source": [
        "H = G.copy()"
      ],
      "metadata": {
        "id": "naXHfKR3Kgl8"
      },
      "execution_count": 90,
      "outputs": []
    },
    {
      "cell_type": "code",
      "source": [
        "# Draw closest edges on each node only\n",
        "nx.draw_networkx_edges(H, pos, edge_color=\"blue\", width=0.5)\n",
        "\n",
        "# Draw the route\n",
        "nx.draw_networkx(\n",
        "    G,\n",
        "    pos,\n",
        "    with_labels=True,\n",
        "    edgelist=edge_list,\n",
        "    edge_color=\"red\",\n",
        "    node_size=200,\n",
        "    width=1,\n",
        ")\n",
        "\n",
        "print(\"The route of the traveller is:\")\n",
        "plt.show()"
      ],
      "metadata": {
        "colab": {
          "base_uri": "https://localhost:8080/",
          "height": 423
        },
        "id": "soAxT4-lKfHe",
        "outputId": "1f1ada73-877e-41b7-b02b-ae512665a7b0"
      },
      "execution_count": 91,
      "outputs": [
        {
          "output_type": "stream",
          "name": "stdout",
          "text": [
            "The route of the traveller is:\n"
          ]
        },
        {
          "output_type": "display_data",
          "data": {
            "text/plain": [
              "<Figure size 640x480 with 1 Axes>"
            ],
            "image/png": "[encoded data removed]"
          },
          "metadata": {}
        }
      ]
    },
    {
      "cell_type": "markdown",
      "source": [
        "Improve the Graphical Visualization part"
      ],
      "metadata": {
        "id": "suSuzBiEcDS2"
      }
    },
    {
      "cell_type": "code",
      "source": [
        "w = GraphWidget()\n",
        "w.import_graph(G)\n",
        "w.directed = True"
      ],
      "metadata": {
        "id": "iMd8lKyVfoKg"
      },
      "execution_count": 18,
      "outputs": []
    },
    {
      "cell_type": "code",
      "source": [
        "node_dict = dict()\n",
        "\n",
        "for i in range(0,len(list(G.nodes()))):\n",
        "    print(i)\n",
        "    node_dict[i]=list(G.nodes())[i]"
      ],
      "metadata": {
        "colab": {
          "base_uri": "https://localhost:8080/"
        },
        "id": "HO1NblR28Ia8",
        "outputId": "f647fd7d-2c3f-4c2b-edc3-c7f78feb1c46"
      },
      "execution_count": 19,
      "outputs": [
        {
          "output_type": "stream",
          "name": "stdout",
          "text": [
            "0\n",
            "1\n",
            "2\n",
            "3\n",
            "4\n",
            "5\n",
            "6\n",
            "7\n"
          ]
        }
      ]
    },
    {
      "cell_type": "code",
      "source": [
        "node_dict"
      ],
      "metadata": {
        "colab": {
          "base_uri": "https://localhost:8080/"
        },
        "id": "bh_ZMcWvAyaF",
        "outputId": "9e1e5bea-ade5-4a95-c1d8-8d6332bd04ba"
      },
      "execution_count": 20,
      "outputs": [
        {
          "output_type": "execute_result",
          "data": {
            "text/plain": [
              "{0: 'A', 1: 'B', 2: 'C', 3: 'H', 4: 'G', 5: 'F', 6: 'D', 7: 'E'}"
            ]
          },
          "metadata": {},
          "execution_count": 20
        }
      ]
    },
    {
      "cell_type": "code",
      "source": [
        "def custom_edge_color_mapping(edge):\n",
        "    \"\"\"let the edge be purple if the starting node has an even index\"\"\"\n",
        "    print(f\"---{edge['start']}\")\n",
        "    print(edge['end'])\n",
        "    print(f\"====== {node_dict[edge['start']]}\")\n",
        "    print(node_dict[edge['end']])\n",
        "\n",
        "    if node_dict[edge['start']] == 'A' and node_dict[edge['end']] == 'B':\n",
        "        return \"#D6B4FC\"\n",
        "    else:\n",
        "        return \"#15AFAC\"\n",
        "\n",
        "    # return (\"#D6B4FC\" if int(node_dict[edge['start']]) == 1 and int(node_dict[edge['end']]) == 2 else \"#15AFAC\")"
      ],
      "metadata": {
        "id": "ayWXn9qg1sr0"
      },
      "execution_count": 37,
      "outputs": []
    },
    {
      "cell_type": "code",
      "source": [
        "w2 = GraphWidget(graph=G)\n",
        "w2.set_edge_color_mapping(custom_edge_color_mapping)\n",
        "w2.get_edge_color_mapping()"
      ],
      "metadata": {
        "colab": {
          "base_uri": "https://localhost:8080/",
          "height": 103
        },
        "id": "1NONwjj3foDm",
        "outputId": "07715360-0e35-48c7-f51b-418156356d8b"
      },
      "execution_count": 38,
      "outputs": [
        {
          "output_type": "execute_result",
          "data": {
            "text/plain": [
              "<function __main__.custom_edge_color_mapping(edge)>"
            ],
            "text/html": [
              "<div style=\"max-width:800px; border: 1px solid var(--colab-border-color);\"><style>\n",
              "      pre.function-repr-contents {\n",
              "        overflow-x: auto;\n",
              "        padding: 8px 12px;\n",
              "        max-height: 500px;\n",
              "      }\n",
              "\n",
              "      pre.function-repr-contents.function-repr-contents-collapsed {\n",
              "        cursor: pointer;\n",
              "        max-height: 100px;\n",
              "      }\n",
              "    </style>\n",
              "    <pre style=\"white-space: initial; background:\n",
              "         var(--colab-secondary-surface-color); padding: 8px 12px;\n",
              "         border-bottom: 1px solid var(--colab-border-color);\"><b>custom_edge_color_mapping</b><br/>def custom_edge_color_mapping(edge)</pre><pre class=\"function-repr-contents function-repr-contents-collapsed\" style=\"\"><a class=\"filepath\" style=\"display:none\" href=\"#\">/content/&lt;ipython-input-37-8255b32e6cb0&gt;</a>let the edge be purple if the starting node has an even index</pre></div>"
            ]
          },
          "metadata": {},
          "execution_count": 38
        }
      ]
    },
    {
      "cell_type": "code",
      "source": [
        "display(w2)"
      ],
      "metadata": {
        "colab": {
          "base_uri": "https://localhost:8080/",
          "height": 1000,
          "referenced_widgets": [
            "b7f2ec4b8edf4a39bca108ffc7b2af2d",
            "c6401755fdf240c6b63c9eb09a624f14"
          ]
        },
        "id": "24K3BWOoOlxs",
        "outputId": "8c9e276d-96af-4948-eb19-801b8be865e3"
      },
      "execution_count": 39,
      "outputs": [
        {
          "output_type": "stream",
          "name": "stdout",
          "text": [
            "---0\n",
            "1\n",
            "====== A\n",
            "B\n",
            "---0\n",
            "3\n",
            "====== A\n",
            "H\n",
            "---0\n",
            "4\n",
            "====== A\n",
            "G\n",
            "---1\n",
            "4\n",
            "====== B\n",
            "G\n",
            "---2\n",
            "7\n",
            "====== C\n",
            "E\n",
            "---4\n",
            "7\n",
            "====== G\n",
            "E\n",
            "---5\n",
            "6\n",
            "====== F\n",
            "D\n",
            "---6\n",
            "7\n",
            "====== D\n",
            "E\n"
          ]
        },
        {
          "output_type": "display_data",
          "data": {
            "text/plain": [
              "GraphWidget(layout=Layout(height='500px', width='100%'))"
            ],
            "application/vnd.jupyter.widget-view+json": {
              "version_major": 2,
              "version_minor": 0,
              "model_id": "b7f2ec4b8edf4a39bca108ffc7b2af2d"
            }
          },
          "metadata": {
            "application/vnd.jupyter.widget-view+json": {
              "colab": {
                "custom_widget_manager": {
                  "url": "https://ssl.gstatic.com/colaboratory-static/widgets/colab-cdn-widget-manager/2b70e893a8ba7c0f/manager.min.js"
                }
              }
            }
          }
        }
      ]
    },
    {
      "cell_type": "markdown",
      "source": [
        "### Solving the problem through Adjacency Matrix"
      ],
      "metadata": {
        "id": "HyBZV2-ZdfEL"
      }
    },
    {
      "cell_type": "code",
      "source": [
        "import numpy as np\n",
        "from aco_routing import ACO\n",
        "import networkx as nx\n",
        "\n",
        "# Define the distance matrix for the TSP\n",
        "distance_matrix = np.array([\n",
        "    [0, 200, 28, 15, 47],\n",
        "    [20, 0, 48, 86, 21],\n",
        "    [12, 14, 0, 10, 43],\n",
        "    [50, 8, 10, 0, 12],\n",
        "    [71, 12, 23, 42, 0]\n",
        "])\n",
        "\n",
        "# Define the number of nodes\n",
        "num_nodes = distance_matrix.shape[0]"
      ],
      "metadata": {
        "id": "lxX95Cp0Ucdo"
      },
      "execution_count": 62,
      "outputs": []
    },
    {
      "cell_type": "code",
      "source": [
        "# Define the nodes with labels\n",
        "nodelist = list(str(i) for i in range(num_nodes))"
      ],
      "metadata": {
        "id": "nEHDzr5pU0Vq"
      },
      "execution_count": 63,
      "outputs": []
    },
    {
      "cell_type": "markdown",
      "source": [
        "### Converting the Adjacency Matrix to Graph"
      ],
      "metadata": {
        "id": "mLXP9F6jePN9"
      }
    },
    {
      "cell_type": "code",
      "execution_count": 64,
      "metadata": {
        "id": "ifloAHXTwfqG"
      },
      "outputs": [],
      "source": [
        "# Create the graph\n",
        "graph = nx.from_numpy_array(distance_matrix, nodelist=nodelist, edge_attr='cost')"
      ]
    },
    {
      "cell_type": "code",
      "source": [
        "subax1 = plt.subplot(121)\n",
        "nx.draw(graph, with_labels=True)"
      ],
      "metadata": {
        "colab": {
          "base_uri": "https://localhost:8080/",
          "height": 406
        },
        "id": "JA3rhNdoVw8d",
        "outputId": "3f564b6b-7e34-46b4-8dac-74e38b908ac9"
      },
      "execution_count": 66,
      "outputs": [
        {
          "output_type": "display_data",
          "data": {
            "text/plain": [
              "<Figure size 640x480 with 1 Axes>"
            ],
            "image/png": "[encoded data removed]"
          },
          "metadata": {}
        }
      ]
    },
    {
      "cell_type": "markdown",
      "source": [
        "### Improve Visualization"
      ],
      "metadata": {
        "id": "euOYQmIteUXi"
      }
    },
    {
      "cell_type": "code",
      "source": [
        "from yfiles_jupyter_graphs import GraphWidget"
      ],
      "metadata": {
        "id": "HOVrRzlUahHz"
      },
      "execution_count": 16,
      "outputs": []
    },
    {
      "cell_type": "code",
      "source": [
        "try:\n",
        "  import google.colab\n",
        "  from google.colab import output\n",
        "  output.enable_custom_widget_manager()\n",
        "except:\n",
        "  pass"
      ],
      "metadata": {
        "id": "Popdsf5RaooP"
      },
      "execution_count": 17,
      "outputs": []
    },
    {
      "cell_type": "code",
      "source": [
        "w = GraphWidget()"
      ],
      "metadata": {
        "id": "D3Q-jbo3a0VH"
      },
      "execution_count": 69,
      "outputs": []
    },
    {
      "cell_type": "code",
      "source": [
        "w.import_graph(graph)\n",
        "w.directed = True"
      ],
      "metadata": {
        "id": "Hl6r7t_CbTjJ"
      },
      "execution_count": 70,
      "outputs": []
    },
    {
      "cell_type": "code",
      "source": [
        "display(w)"
      ],
      "metadata": {
        "colab": {
          "base_uri": "https://localhost:8080/",
          "height": 517,
          "referenced_widgets": [
            "f8e886dab920409b8d2ec78a88fca916",
            "6eb5d7ca80fc424ab292ab67177533af"
          ]
        },
        "id": "iz3tlVTTbaHg",
        "outputId": "fe8fff11-c394-4617-c032-e19389d317bb"
      },
      "execution_count": 71,
      "outputs": [
        {
          "output_type": "display_data",
          "data": {
            "text/plain": [
              "GraphWidget(layout=Layout(height='500px', width='100%'))"
            ],
            "application/vnd.jupyter.widget-view+json": {
              "version_major": 2,
              "version_minor": 0,
              "model_id": "f8e886dab920409b8d2ec78a88fca916"
            }
          },
          "metadata": {
            "application/vnd.jupyter.widget-view+json": {
              "colab": {
                "custom_widget_manager": {
                  "url": "https://ssl.gstatic.com/colaboratory-static/widgets/colab-cdn-widget-manager/2b70e893a8ba7c0f/manager.min.js"
                }
              }
            }
          }
        }
      ]
    },
    {
      "cell_type": "code",
      "source": [
        "# Define the ACO parameters\n",
        "aco = ACO(graph, ant_max_steps=100, num_iterations=100, ant_random_spawn=True)\n",
        "\n",
        "# Run the ACO algorithm\n",
        "best_path, best_cost = aco.find_shortest_path(\n",
        "    source=\"1\",\n",
        "    destination=\"3\",\n",
        "    num_ants=100,\n",
        ")\n",
        "\n",
        "# Print the results\n",
        "print(f\"Best path: {best_path}\")\n",
        "print(f\"Best cost: {best_cost}\")\n"
      ],
      "metadata": {
        "colab": {
          "base_uri": "https://localhost:8080/"
        },
        "id": "NXEPgPvKVNXd",
        "outputId": "79c5f047-31e6-43ca-b3b5-6327edd19384"
      },
      "execution_count": 72,
      "outputs": [
        {
          "output_type": "stream",
          "name": "stdout",
          "text": [
            "Best path: ['1', '4', '2', '3']\n",
            "Best cost: 45.0\n"
          ]
        }
      ]
    },
    {
      "cell_type": "code",
      "source": [],
      "metadata": {
        "id": "vGyruKi7emv-"
      },
      "execution_count": null,
      "outputs": []
    },
    {
      "cell_type": "markdown",
      "source": [
        "### Solving the problem for a large random geometric graph"
      ],
      "metadata": {
        "id": "_222ksM-enbE"
      }
    },
    {
      "cell_type": "code",
      "source": [
        "import matplotlib.pyplot as plt\n",
        "import networkx as nx\n",
        "import networkx.algorithms.approximation as nx_app\n",
        "import math\n",
        "\n",
        "G = nx.random_geometric_graph(20, radius=0.4, seed=3)\n",
        "pos = nx.get_node_attributes(G, \"pos\")\n",
        "\n",
        "print(pos)\n",
        "# Depot should be at (0,0)\n",
        "pos[0] = (0.5, 0.5)\n",
        "\n",
        "H = G.copy()"
      ],
      "metadata": {
        "colab": {
          "base_uri": "https://localhost:8080/"
        },
        "id": "JydvRakXWLAd",
        "outputId": "d8cf27cd-1076-47e2-f31c-e9d2bb6469dd"
      },
      "execution_count": 93,
      "outputs": [
        {
          "output_type": "stream",
          "name": "stdout",
          "text": [
            "{0: [0.23796462709189137, 0.5442292252959519], 1: [0.36995516654807925, 0.6039200385961945], 2: [0.625720304108054, 0.06552885923981311], 3: [0.013167991554874137, 0.83746908209646], 4: [0.25935401432800764, 0.23433096104669637], 5: [0.9956448355104628, 0.47026350752244794], 6: [0.8364614512743888, 0.47635320869933495], 7: [0.6390681405441619, 0.15061642402352393], 8: [0.6348606582851885, 0.8680453071432968], 9: [0.5231812103833013, 0.7412518562014903], 10: [0.6714114753695926, 0.0640314382269973], 11: [0.7582302462868173, 0.5910995829313176], 12: [0.3012676595157123, 0.031011751469749993], 13: [0.8655272369789456, 0.47274908866546683], 14: [0.7188239240658031, 0.8788128002554817], 15: [0.7141294836112025, 0.9210986675838745], 16: [0.3949634040007439, 0.8009087709852283], 17: [0.44462105605076063, 0.9355867217045211], 18: [0.8788666603380416, 0.09745430973087721], 19: [0.1359688602006689, 0.21698694123313733]}\n"
          ]
        }
      ]
    },
    {
      "cell_type": "code",
      "source": [
        "pos"
      ],
      "metadata": {
        "colab": {
          "base_uri": "https://localhost:8080/"
        },
        "id": "W5P3Kf8YLZxw",
        "outputId": "92295a93-d6b3-4c20-a4e4-7d1f39efbe11"
      },
      "execution_count": 94,
      "outputs": [
        {
          "output_type": "execute_result",
          "data": {
            "text/plain": [
              "{0: (0.5, 0.5),\n",
              " 1: [0.36995516654807925, 0.6039200385961945],\n",
              " 2: [0.625720304108054, 0.06552885923981311],\n",
              " 3: [0.013167991554874137, 0.83746908209646],\n",
              " 4: [0.25935401432800764, 0.23433096104669637],\n",
              " 5: [0.9956448355104628, 0.47026350752244794],\n",
              " 6: [0.8364614512743888, 0.47635320869933495],\n",
              " 7: [0.6390681405441619, 0.15061642402352393],\n",
              " 8: [0.6348606582851885, 0.8680453071432968],\n",
              " 9: [0.5231812103833013, 0.7412518562014903],\n",
              " 10: [0.6714114753695926, 0.0640314382269973],\n",
              " 11: [0.7582302462868173, 0.5910995829313176],\n",
              " 12: [0.3012676595157123, 0.031011751469749993],\n",
              " 13: [0.8655272369789456, 0.47274908866546683],\n",
              " 14: [0.7188239240658031, 0.8788128002554817],\n",
              " 15: [0.7141294836112025, 0.9210986675838745],\n",
              " 16: [0.3949634040007439, 0.8009087709852283],\n",
              " 17: [0.44462105605076063, 0.9355867217045211],\n",
              " 18: [0.8788666603380416, 0.09745430973087721],\n",
              " 19: [0.1359688602006689, 0.21698694123313733]}"
            ]
          },
          "metadata": {},
          "execution_count": 94
        }
      ]
    },
    {
      "cell_type": "markdown",
      "source": [
        "### Another alternative algorithm: Approximate a solution of the traveling salesman problem\n",
        "Compute a 3/2-approximation of the traveling salesman problem in a complete undirected graph using Christofides algorithm."
      ],
      "metadata": {
        "id": "pc_gLNwdfcjy"
      }
    },
    {
      "cell_type": "code",
      "source": [
        "\n",
        "# Calculating the distances between the nodes as edge's weight.\n",
        "for i in range(len(pos)):\n",
        "    for j in range(i + 1, len(pos)):\n",
        "        dist = math.hypot(pos[i][0] - pos[j][0], pos[i][1] - pos[j][1])\n",
        "        dist = dist\n",
        "\n",
        "        # This weight in the graph can be any business KPI like actual distance, duration\n",
        "        G.add_edge(i, j, weight=dist)\n",
        "\n",
        "cycle = nx_app.christofides(G, weight=\"weight\")\n",
        "edge_list = list(nx.utils.pairwise(cycle))\n",
        "\n",
        "# Draw closest edges on each node only\n",
        "nx.draw_networkx_edges(H, pos, edge_color=\"blue\", width=0.5)\n",
        "\n",
        "# Draw the route\n",
        "nx.draw_networkx(\n",
        "    G,\n",
        "    pos,\n",
        "    with_labels=True,\n",
        "    edgelist=edge_list,\n",
        "    edge_color=\"red\",\n",
        "    node_size=200,\n",
        "    width=3,\n",
        ")\n",
        "\n",
        "print(\"The route of the traveller is:\", cycle)\n",
        "plt.show()"
      ],
      "metadata": {
        "colab": {
          "base_uri": "https://localhost:8080/",
          "height": 423
        },
        "id": "nUqG9Sjfp4km",
        "outputId": "d6da916c-b5c8-41b5-f7ed-bde8b318c347"
      },
      "execution_count": 95,
      "outputs": [
        {
          "output_type": "stream",
          "name": "stdout",
          "text": [
            "The route of the traveller is: [0, 4, 19, 12, 2, 7, 10, 18, 5, 13, 6, 11, 3, 16, 17, 15, 14, 8, 9, 1, 0]\n"
          ]
        },
        {
          "output_type": "display_data",
          "data": {
            "text/plain": [
              "<Figure size 640x480 with 1 Axes>"
            ],
            "image/png": "[encoded data removed]"
          },
          "metadata": {}
        }
      ]
    },
    {
      "cell_type": "code",
      "source": [
        "edge_list"
      ],
      "metadata": {
        "colab": {
          "base_uri": "https://localhost:8080/"
        },
        "id": "FQFenB4tqmVD",
        "outputId": "8ff43f75-d465-4cbc-9d22-92dcd9c08289"
      },
      "execution_count": 96,
      "outputs": [
        {
          "output_type": "execute_result",
          "data": {
            "text/plain": [
              "[(0, 4),\n",
              " (4, 19),\n",
              " (19, 12),\n",
              " (12, 2),\n",
              " (2, 7),\n",
              " (7, 10),\n",
              " (10, 18),\n",
              " (18, 5),\n",
              " (5, 13),\n",
              " (13, 6),\n",
              " (6, 11),\n",
              " (11, 3),\n",
              " (3, 16),\n",
              " (16, 17),\n",
              " (17, 15),\n",
              " (15, 14),\n",
              " (14, 8),\n",
              " (8, 9),\n",
              " (9, 1),\n",
              " (1, 0)]"
            ]
          },
          "metadata": {},
          "execution_count": 96
        }
      ]
    },
    {
      "cell_type": "code",
      "source": [],
      "metadata": {
        "id": "qnOi4ni7qm_B"
      },
      "execution_count": null,
      "outputs": []
    }
  ]
}
